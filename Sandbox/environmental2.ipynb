{
 "cells": [
  {
   "cell_type": "code",
   "execution_count": 1,
   "metadata": {},
   "outputs": [],
   "source": [
    "import pandas as pd"
   ]
  },
  {
   "cell_type": "code",
   "execution_count": null,
   "metadata": {},
   "outputs": [],
   "source": []
  },
  {
   "cell_type": "code",
   "execution_count": 40,
   "metadata": {},
   "outputs": [
    {
     "data": {
      "text/html": [
       "<div>\n",
       "<style scoped>\n",
       "    .dataframe tbody tr th:only-of-type {\n",
       "        vertical-align: middle;\n",
       "    }\n",
       "\n",
       "    .dataframe tbody tr th {\n",
       "        vertical-align: top;\n",
       "    }\n",
       "\n",
       "    .dataframe thead th {\n",
       "        text-align: right;\n",
       "    }\n",
       "</style>\n",
       "<table border=\"1\" class=\"dataframe\">\n",
       "  <thead>\n",
       "    <tr style=\"text-align: right;\">\n",
       "      <th></th>\n",
       "      <th>X</th>\n",
       "      <th>Y</th>\n",
       "      <th>OBJECTID</th>\n",
       "      <th>ACCIDENT_NO</th>\n",
       "      <th>ABS_CODE</th>\n",
       "      <th>ACCIDENT_STATUS</th>\n",
       "      <th>ACCIDENT_DATE</th>\n",
       "      <th>ACCIDENT_TIME</th>\n",
       "      <th>ALCOHOLTIME</th>\n",
       "      <th>ACCIDENT_TYPE</th>\n",
       "      <th>...</th>\n",
       "      <th>REGION_NAME_ALL</th>\n",
       "      <th>SRNS</th>\n",
       "      <th>SRNS_ALL</th>\n",
       "      <th>RMA</th>\n",
       "      <th>RMA_ALL</th>\n",
       "      <th>DIVIDED</th>\n",
       "      <th>DIVIDED_ALL</th>\n",
       "      <th>STAT_DIV_NAME</th>\n",
       "      <th>predicted_environmental_cluster</th>\n",
       "      <th>YEARMONTH</th>\n",
       "    </tr>\n",
       "  </thead>\n",
       "  <tbody>\n",
       "    <tr>\n",
       "      <th>0</th>\n",
       "      <td>2444652.517</td>\n",
       "      <td>2369157.816</td>\n",
       "      <td>1</td>\n",
       "      <td>T20150013818</td>\n",
       "      <td>ABS to receive accident</td>\n",
       "      <td>Finished</td>\n",
       "      <td>2015-07-01 00:00:00+00:00</td>\n",
       "      <td>1899/12/30 05:15:00+00</td>\n",
       "      <td>Yes</td>\n",
       "      <td>Collision with a fixed object</td>\n",
       "      <td>...</td>\n",
       "      <td>SOUTH WESTERN REGION</td>\n",
       "      <td>NaN</td>\n",
       "      <td>NaN</td>\n",
       "      <td>Local Road</td>\n",
       "      <td>Local Road</td>\n",
       "      <td>Undivided</td>\n",
       "      <td>Undivided</td>\n",
       "      <td>Country</td>\n",
       "      <td>39</td>\n",
       "      <td>2015-07</td>\n",
       "    </tr>\n",
       "    <tr>\n",
       "      <th>1</th>\n",
       "      <td>2507053.522</td>\n",
       "      <td>2427188.691</td>\n",
       "      <td>2</td>\n",
       "      <td>T20150013844</td>\n",
       "      <td>ABS to receive accident</td>\n",
       "      <td>Finished</td>\n",
       "      <td>2015-07-01 00:00:00+00:00</td>\n",
       "      <td>1899/12/30 11:30:00+00</td>\n",
       "      <td>No</td>\n",
       "      <td>Collision with a fixed object</td>\n",
       "      <td>...</td>\n",
       "      <td>METROPOLITAN NORTH WEST REGION</td>\n",
       "      <td>C</td>\n",
       "      <td>C</td>\n",
       "      <td>Arterial Other</td>\n",
       "      <td>Arterial Other,Local Road</td>\n",
       "      <td>Divided</td>\n",
       "      <td>Undivided,Divided</td>\n",
       "      <td>Metro</td>\n",
       "      <td>56</td>\n",
       "      <td>2015-07</td>\n",
       "    </tr>\n",
       "    <tr>\n",
       "      <th>2</th>\n",
       "      <td>2490706.473</td>\n",
       "      <td>2409439.682</td>\n",
       "      <td>3</td>\n",
       "      <td>T20150013854</td>\n",
       "      <td>ABS to receive accident</td>\n",
       "      <td>Finished</td>\n",
       "      <td>2015-07-01 00:00:00+00:00</td>\n",
       "      <td>1899/12/30 13:40:00+00</td>\n",
       "      <td>No</td>\n",
       "      <td>Collision with vehicle</td>\n",
       "      <td>...</td>\n",
       "      <td>METROPOLITAN NORTH WEST REGION</td>\n",
       "      <td>NaN</td>\n",
       "      <td>NaN</td>\n",
       "      <td>Local Road</td>\n",
       "      <td>Local Road</td>\n",
       "      <td>Undivided</td>\n",
       "      <td>Undivided</td>\n",
       "      <td>Metro</td>\n",
       "      <td>87</td>\n",
       "      <td>2015-07</td>\n",
       "    </tr>\n",
       "    <tr>\n",
       "      <th>3</th>\n",
       "      <td>2524370.961</td>\n",
       "      <td>2379929.797</td>\n",
       "      <td>4</td>\n",
       "      <td>T20150013897</td>\n",
       "      <td>Non ABS accident</td>\n",
       "      <td>Finished</td>\n",
       "      <td>2015-07-02 00:00:00+00:00</td>\n",
       "      <td>1899/12/30 10:31:00+00</td>\n",
       "      <td>No</td>\n",
       "      <td>Struck Pedestrian</td>\n",
       "      <td>...</td>\n",
       "      <td>METROPOLITAN SOUTH EAST REGION</td>\n",
       "      <td>NaN</td>\n",
       "      <td>NaN</td>\n",
       "      <td>NaN</td>\n",
       "      <td>NaN</td>\n",
       "      <td>NaN</td>\n",
       "      <td>NaN</td>\n",
       "      <td>Metro</td>\n",
       "      <td>46</td>\n",
       "      <td>2015-07</td>\n",
       "    </tr>\n",
       "    <tr>\n",
       "      <th>4</th>\n",
       "      <td>2346439.879</td>\n",
       "      <td>2385852.164</td>\n",
       "      <td>5</td>\n",
       "      <td>T20150013907</td>\n",
       "      <td>ABS to receive accident</td>\n",
       "      <td>Finished</td>\n",
       "      <td>2015-07-02 00:00:00+00:00</td>\n",
       "      <td>1899/12/30 10:25:00+00</td>\n",
       "      <td>No</td>\n",
       "      <td>Vehicle overturned (no collision)</td>\n",
       "      <td>...</td>\n",
       "      <td>SOUTH WESTERN REGION</td>\n",
       "      <td>C</td>\n",
       "      <td>C</td>\n",
       "      <td>Arterial Other</td>\n",
       "      <td>Arterial Other</td>\n",
       "      <td>Undivided</td>\n",
       "      <td>Undivided</td>\n",
       "      <td>Country</td>\n",
       "      <td>123</td>\n",
       "      <td>2015-07</td>\n",
       "    </tr>\n",
       "  </tbody>\n",
       "</table>\n",
       "<p>5 rows × 67 columns</p>\n",
       "</div>"
      ],
      "text/plain": [
       "             X            Y  OBJECTID   ACCIDENT_NO                 ABS_CODE  \\\n",
       "0  2444652.517  2369157.816         1  T20150013818  ABS to receive accident   \n",
       "1  2507053.522  2427188.691         2  T20150013844  ABS to receive accident   \n",
       "2  2490706.473  2409439.682         3  T20150013854  ABS to receive accident   \n",
       "3  2524370.961  2379929.797         4  T20150013897         Non ABS accident   \n",
       "4  2346439.879  2385852.164         5  T20150013907  ABS to receive accident   \n",
       "\n",
       "  ACCIDENT_STATUS              ACCIDENT_DATE           ACCIDENT_TIME  \\\n",
       "0        Finished  2015-07-01 00:00:00+00:00  1899/12/30 05:15:00+00   \n",
       "1        Finished  2015-07-01 00:00:00+00:00  1899/12/30 11:30:00+00   \n",
       "2        Finished  2015-07-01 00:00:00+00:00  1899/12/30 13:40:00+00   \n",
       "3        Finished  2015-07-02 00:00:00+00:00  1899/12/30 10:31:00+00   \n",
       "4        Finished  2015-07-02 00:00:00+00:00  1899/12/30 10:25:00+00   \n",
       "\n",
       "  ALCOHOLTIME                      ACCIDENT_TYPE  ...  \\\n",
       "0         Yes      Collision with a fixed object  ...   \n",
       "1          No      Collision with a fixed object  ...   \n",
       "2          No             Collision with vehicle  ...   \n",
       "3          No                  Struck Pedestrian  ...   \n",
       "4          No  Vehicle overturned (no collision)  ...   \n",
       "\n",
       "                  REGION_NAME_ALL SRNS SRNS_ALL             RMA  \\\n",
       "0            SOUTH WESTERN REGION  NaN      NaN      Local Road   \n",
       "1  METROPOLITAN NORTH WEST REGION    C        C  Arterial Other   \n",
       "2  METROPOLITAN NORTH WEST REGION  NaN      NaN      Local Road   \n",
       "3  METROPOLITAN SOUTH EAST REGION  NaN      NaN             NaN   \n",
       "4            SOUTH WESTERN REGION    C        C  Arterial Other   \n",
       "\n",
       "                     RMA_ALL    DIVIDED        DIVIDED_ALL STAT_DIV_NAME  \\\n",
       "0                 Local Road  Undivided          Undivided       Country   \n",
       "1  Arterial Other,Local Road    Divided  Undivided,Divided         Metro   \n",
       "2                 Local Road  Undivided          Undivided         Metro   \n",
       "3                        NaN        NaN                NaN         Metro   \n",
       "4             Arterial Other  Undivided          Undivided       Country   \n",
       "\n",
       "  predicted_environmental_cluster  YEARMONTH  \n",
       "0                              39    2015-07  \n",
       "1                              56    2015-07  \n",
       "2                              87    2015-07  \n",
       "3                              46    2015-07  \n",
       "4                             123    2015-07  \n",
       "\n",
       "[5 rows x 67 columns]"
      ]
     },
     "execution_count": 40,
     "metadata": {},
     "output_type": "execute_result"
    }
   ],
   "source": [
    "environ_col = ['ALCOHOLTIME', 'LIGHT_CONDITION', 'ROAD_GEOMETRY', 'SPEED_ZONE', 'RMA']\n",
    "\n",
    "crashsite_df = pd.read_csv('out/crashsite_df.csv')\n",
    "crashsite_df[\"YEARMONTH\"] = crashsite_df[\"ACCIDENT_DATE\"].apply(lambda x: x[:7])\n",
    "crashsite_df.head()"
   ]
  },
  {
   "cell_type": "code",
   "execution_count": 41,
   "metadata": {},
   "outputs": [
    {
     "data": {
      "text/html": [
       "<div>\n",
       "<style scoped>\n",
       "    .dataframe tbody tr th:only-of-type {\n",
       "        vertical-align: middle;\n",
       "    }\n",
       "\n",
       "    .dataframe tbody tr th {\n",
       "        vertical-align: top;\n",
       "    }\n",
       "\n",
       "    .dataframe thead th {\n",
       "        text-align: right;\n",
       "    }\n",
       "</style>\n",
       "<table border=\"1\" class=\"dataframe\">\n",
       "  <thead>\n",
       "    <tr style=\"text-align: right;\">\n",
       "      <th></th>\n",
       "      <th>ALCOHOLTIME_No</th>\n",
       "      <th>ALCOHOLTIME_Yes</th>\n",
       "      <th>LIGHT_CONDITION_Dark Street lights on</th>\n",
       "      <th>LIGHT_CONDITION_Day</th>\n",
       "      <th>ROAD_GEOMETRY_Cross intersection</th>\n",
       "      <th>ROAD_GEOMETRY_Not at intersection</th>\n",
       "      <th>ROAD_GEOMETRY_Private property</th>\n",
       "      <th>SPEED_ZONE_100 km/hr</th>\n",
       "      <th>SPEED_ZONE_50 km/hr</th>\n",
       "      <th>SPEED_ZONE_60 km/hr</th>\n",
       "      <th>SPEED_ZONE_80 km/hr</th>\n",
       "      <th>SPEED_ZONE_Camping grounds or off road</th>\n",
       "      <th>RMA_Arterial Other</th>\n",
       "      <th>RMA_Local Road</th>\n",
       "    </tr>\n",
       "  </thead>\n",
       "  <tbody>\n",
       "    <tr>\n",
       "      <th>0</th>\n",
       "      <td>False</td>\n",
       "      <td>True</td>\n",
       "      <td>True</td>\n",
       "      <td>False</td>\n",
       "      <td>False</td>\n",
       "      <td>True</td>\n",
       "      <td>False</td>\n",
       "      <td>False</td>\n",
       "      <td>False</td>\n",
       "      <td>True</td>\n",
       "      <td>False</td>\n",
       "      <td>False</td>\n",
       "      <td>False</td>\n",
       "      <td>True</td>\n",
       "    </tr>\n",
       "    <tr>\n",
       "      <th>1</th>\n",
       "      <td>True</td>\n",
       "      <td>False</td>\n",
       "      <td>False</td>\n",
       "      <td>True</td>\n",
       "      <td>True</td>\n",
       "      <td>False</td>\n",
       "      <td>False</td>\n",
       "      <td>False</td>\n",
       "      <td>False</td>\n",
       "      <td>False</td>\n",
       "      <td>True</td>\n",
       "      <td>False</td>\n",
       "      <td>True</td>\n",
       "      <td>False</td>\n",
       "    </tr>\n",
       "    <tr>\n",
       "      <th>2</th>\n",
       "      <td>True</td>\n",
       "      <td>False</td>\n",
       "      <td>False</td>\n",
       "      <td>True</td>\n",
       "      <td>True</td>\n",
       "      <td>False</td>\n",
       "      <td>False</td>\n",
       "      <td>False</td>\n",
       "      <td>True</td>\n",
       "      <td>False</td>\n",
       "      <td>False</td>\n",
       "      <td>False</td>\n",
       "      <td>False</td>\n",
       "      <td>True</td>\n",
       "    </tr>\n",
       "    <tr>\n",
       "      <th>3</th>\n",
       "      <td>True</td>\n",
       "      <td>False</td>\n",
       "      <td>False</td>\n",
       "      <td>True</td>\n",
       "      <td>False</td>\n",
       "      <td>False</td>\n",
       "      <td>True</td>\n",
       "      <td>False</td>\n",
       "      <td>False</td>\n",
       "      <td>False</td>\n",
       "      <td>False</td>\n",
       "      <td>True</td>\n",
       "      <td>False</td>\n",
       "      <td>False</td>\n",
       "    </tr>\n",
       "    <tr>\n",
       "      <th>4</th>\n",
       "      <td>True</td>\n",
       "      <td>False</td>\n",
       "      <td>False</td>\n",
       "      <td>True</td>\n",
       "      <td>False</td>\n",
       "      <td>True</td>\n",
       "      <td>False</td>\n",
       "      <td>True</td>\n",
       "      <td>False</td>\n",
       "      <td>False</td>\n",
       "      <td>False</td>\n",
       "      <td>False</td>\n",
       "      <td>True</td>\n",
       "      <td>False</td>\n",
       "    </tr>\n",
       "  </tbody>\n",
       "</table>\n",
       "</div>"
      ],
      "text/plain": [
       "   ALCOHOLTIME_No  ALCOHOLTIME_Yes  LIGHT_CONDITION_Dark Street lights on  \\\n",
       "0           False             True                                   True   \n",
       "1            True            False                                  False   \n",
       "2            True            False                                  False   \n",
       "3            True            False                                  False   \n",
       "4            True            False                                  False   \n",
       "\n",
       "   LIGHT_CONDITION_Day  ROAD_GEOMETRY_Cross intersection  \\\n",
       "0                False                             False   \n",
       "1                 True                              True   \n",
       "2                 True                              True   \n",
       "3                 True                             False   \n",
       "4                 True                             False   \n",
       "\n",
       "   ROAD_GEOMETRY_Not at intersection  ROAD_GEOMETRY_Private property  \\\n",
       "0                               True                           False   \n",
       "1                              False                           False   \n",
       "2                              False                           False   \n",
       "3                              False                            True   \n",
       "4                               True                           False   \n",
       "\n",
       "   SPEED_ZONE_100 km/hr  SPEED_ZONE_50 km/hr  SPEED_ZONE_60 km/hr  \\\n",
       "0                 False                False                 True   \n",
       "1                 False                False                False   \n",
       "2                 False                 True                False   \n",
       "3                 False                False                False   \n",
       "4                  True                False                False   \n",
       "\n",
       "   SPEED_ZONE_80 km/hr  SPEED_ZONE_Camping grounds or off road  \\\n",
       "0                False                                   False   \n",
       "1                 True                                   False   \n",
       "2                False                                   False   \n",
       "3                False                                    True   \n",
       "4                False                                   False   \n",
       "\n",
       "   RMA_Arterial Other  RMA_Local Road  \n",
       "0               False            True  \n",
       "1                True           False  \n",
       "2               False            True  \n",
       "3               False           False  \n",
       "4                True           False  "
      ]
     },
     "execution_count": 41,
     "metadata": {},
     "output_type": "execute_result"
    }
   ],
   "source": [
    "pd.get_dummies(crashsite_df[environ_col].head())"
   ]
  },
  {
   "cell_type": "code",
   "execution_count": 42,
   "metadata": {},
   "outputs": [
    {
     "data": {
      "text/plain": [
       "Index(['X', 'Y', 'OBJECTID', 'ACCIDENT_NO', 'ABS_CODE', 'ACCIDENT_STATUS',\n",
       "       'ACCIDENT_DATE', 'ACCIDENT_TIME', 'ALCOHOLTIME', 'ACCIDENT_TYPE',\n",
       "       'DAY_OF_WEEK', 'DCA_CODE', 'HIT_RUN_FLAG', 'LIGHT_CONDITION',\n",
       "       'POLICE_ATTEND', 'ROAD_GEOMETRY', 'SEVERITY', 'SPEED_ZONE',\n",
       "       'RUN_OFFROAD', 'NODE_ID', 'LONGITUDE', 'LATITUDE', 'NODE_TYPE',\n",
       "       'LGA_NAME', 'REGION_NAME', 'VICGRID_X', 'VICGRID_Y', 'TOTAL_PERSONS',\n",
       "       'INJ_OR_FATAL', 'FATALITY', 'SERIOUSINJURY', 'OTHERINJURY',\n",
       "       'NONINJURED', 'MALES', 'FEMALES', 'BICYCLIST', 'PASSENGER', 'DRIVER',\n",
       "       'PEDESTRIAN', 'PILLION', 'MOTORIST', 'UNKNOWN', 'PED_CYCLIST_5_12',\n",
       "       'PED_CYCLIST_13_18', 'OLD_PEDESTRIAN', 'OLD_DRIVER', 'YOUNG_DRIVER',\n",
       "       'ALCOHOL_RELATED', 'UNLICENCSED', 'NO_OF_VEHICLES', 'HEAVYVEHICLE',\n",
       "       'PASSENGERVEHICLE', 'MOTORCYCLE', 'PUBLICVEHICLE', 'DEG_URBAN_NAME',\n",
       "       'DEG_URBAN_ALL', 'LGA_NAME_ALL', 'REGION_NAME_ALL', 'SRNS', 'SRNS_ALL',\n",
       "       'RMA', 'RMA_ALL', 'DIVIDED', 'DIVIDED_ALL', 'STAT_DIV_NAME',\n",
       "       'predicted_environmental_cluster', 'YEARMONTH'],\n",
       "      dtype='object')"
      ]
     },
     "execution_count": 42,
     "metadata": {},
     "output_type": "execute_result"
    }
   ],
   "source": [
    "crashsite_df.columns"
   ]
  },
  {
   "cell_type": "code",
   "execution_count": 43,
   "metadata": {},
   "outputs": [
    {
     "data": {
      "text/html": [
       "<div>\n",
       "<style scoped>\n",
       "    .dataframe tbody tr th:only-of-type {\n",
       "        vertical-align: middle;\n",
       "    }\n",
       "\n",
       "    .dataframe tbody tr th {\n",
       "        vertical-align: top;\n",
       "    }\n",
       "\n",
       "    .dataframe thead th {\n",
       "        text-align: right;\n",
       "    }\n",
       "</style>\n",
       "<table border=\"1\" class=\"dataframe\">\n",
       "  <thead>\n",
       "    <tr style=\"text-align: right;\">\n",
       "      <th></th>\n",
       "      <th>INJ_OR_FATAL</th>\n",
       "      <th>FATALITY</th>\n",
       "      <th>SERIOUSINJURY</th>\n",
       "      <th>OTHERINJURY</th>\n",
       "      <th>NONINJURED</th>\n",
       "    </tr>\n",
       "  </thead>\n",
       "  <tbody>\n",
       "    <tr>\n",
       "      <th>0</th>\n",
       "      <td>0.5</td>\n",
       "      <td>0.0</td>\n",
       "      <td>0.0</td>\n",
       "      <td>0.5</td>\n",
       "      <td>0.5</td>\n",
       "    </tr>\n",
       "    <tr>\n",
       "      <th>1</th>\n",
       "      <td>1.0</td>\n",
       "      <td>0.0</td>\n",
       "      <td>0.0</td>\n",
       "      <td>1.0</td>\n",
       "      <td>0.0</td>\n",
       "    </tr>\n",
       "    <tr>\n",
       "      <th>2</th>\n",
       "      <td>0.5</td>\n",
       "      <td>0.0</td>\n",
       "      <td>0.0</td>\n",
       "      <td>0.5</td>\n",
       "      <td>0.5</td>\n",
       "    </tr>\n",
       "    <tr>\n",
       "      <th>3</th>\n",
       "      <td>0.5</td>\n",
       "      <td>0.0</td>\n",
       "      <td>0.0</td>\n",
       "      <td>0.5</td>\n",
       "      <td>0.0</td>\n",
       "    </tr>\n",
       "    <tr>\n",
       "      <th>4</th>\n",
       "      <td>1.0</td>\n",
       "      <td>0.0</td>\n",
       "      <td>1.0</td>\n",
       "      <td>0.0</td>\n",
       "      <td>0.0</td>\n",
       "    </tr>\n",
       "  </tbody>\n",
       "</table>\n",
       "</div>"
      ],
      "text/plain": [
       "   INJ_OR_FATAL  FATALITY  SERIOUSINJURY  OTHERINJURY  NONINJURED\n",
       "0           0.5       0.0            0.0          0.5         0.5\n",
       "1           1.0       0.0            0.0          1.0         0.0\n",
       "2           0.5       0.0            0.0          0.5         0.5\n",
       "3           0.5       0.0            0.0          0.5         0.0\n",
       "4           1.0       0.0            1.0          0.0         0.0"
      ]
     },
     "execution_count": 43,
     "metadata": {},
     "output_type": "execute_result"
    }
   ],
   "source": [
    "metrices = ['INJ_OR_FATAL', 'FATALITY', 'SERIOUSINJURY', 'OTHERINJURY','NONINJURED']\n",
    "norm = 'TOTAL_PERSONS'\n",
    "\n",
    "metrices_df = crashsite_df[metrices].div(crashsite_df[norm], axis=0)\n",
    "metrices_df.head()"
   ]
  },
  {
   "cell_type": "code",
   "execution_count": 52,
   "metadata": {},
   "outputs": [],
   "source": [
    "# create linear regression model for each metrices\n",
    "from sklearn.linear_model import LinearRegression\n",
    "\n",
    "\n",
    "def logistic_regression(df, metrices, norm,metrice=\"INJ_OR_FATAL\"):\n",
    "    metrices_df = df[metrices].div(df[norm], axis=0)\n",
    "    X = pd.get_dummies(crashsite_df[environ_col]).join(crashsite_df[\"predicted_environmental_cluster\"]).groupby(\"predicted_environmental_cluster\").mean()\n",
    "    y = metrices_df[metrice].groupby(crashsite_df[\"predicted_environmental_cluster\"]).mean()\n",
    "    reg = LinearRegression()\n",
    "    reg.fit(X, y)\n",
    "    return reg\n",
    "\n",
    "# create a dictionary of models\n",
    "models = {}\n",
    "for metrice in metrices:\n",
    "    models[metrice] = { \"model\":logistic_regression(crashsite_df, metrices, norm, metrice) }\n"
   ]
  },
  {
   "cell_type": "code",
   "execution_count": 60,
   "metadata": {},
   "outputs": [
    {
     "data": {
      "text/html": [
       "<div>\n",
       "<style scoped>\n",
       "    .dataframe tbody tr th:only-of-type {\n",
       "        vertical-align: middle;\n",
       "    }\n",
       "\n",
       "    .dataframe tbody tr th {\n",
       "        vertical-align: top;\n",
       "    }\n",
       "\n",
       "    .dataframe thead th {\n",
       "        text-align: right;\n",
       "    }\n",
       "</style>\n",
       "<table border=\"1\" class=\"dataframe\">\n",
       "  <thead>\n",
       "    <tr style=\"text-align: right;\">\n",
       "      <th></th>\n",
       "      <th></th>\n",
       "      <th>Coefficient</th>\n",
       "    </tr>\n",
       "  </thead>\n",
       "  <tbody>\n",
       "    <tr>\n",
       "      <th rowspan=\"2\" valign=\"top\">ALCOHOLTIME</th>\n",
       "      <th>No</th>\n",
       "      <td>-2.979181e+11</td>\n",
       "    </tr>\n",
       "    <tr>\n",
       "      <th>Yes</th>\n",
       "      <td>-2.979181e+11</td>\n",
       "    </tr>\n",
       "    <tr>\n",
       "      <th rowspan=\"7\" valign=\"top\">LIGHT</th>\n",
       "      <th>Dark No street lights</th>\n",
       "      <td>9.041728e-02</td>\n",
       "    </tr>\n",
       "    <tr>\n",
       "      <th>Dark Street lights off</th>\n",
       "      <td>-1.219334e+00</td>\n",
       "    </tr>\n",
       "    <tr>\n",
       "      <th>Dark Street lights on</th>\n",
       "      <td>1.511534e-01</td>\n",
       "    </tr>\n",
       "    <tr>\n",
       "      <th>Dark Street lights unknown</th>\n",
       "      <td>5.296978e-01</td>\n",
       "    </tr>\n",
       "    <tr>\n",
       "      <th>Day</th>\n",
       "      <td>1.853952e-01</td>\n",
       "    </tr>\n",
       "    <tr>\n",
       "      <th>Dusk/Dawn</th>\n",
       "      <td>1.825825e-01</td>\n",
       "    </tr>\n",
       "    <tr>\n",
       "      <th>Unk.</th>\n",
       "      <td>8.011317e-02</td>\n",
       "    </tr>\n",
       "    <tr>\n",
       "      <th rowspan=\"9\" valign=\"top\">ROAD</th>\n",
       "      <th>Cross intersection</th>\n",
       "      <td>-1.044718e+00</td>\n",
       "    </tr>\n",
       "    <tr>\n",
       "      <th>Dead end</th>\n",
       "      <td>-1.037837e+00</td>\n",
       "    </tr>\n",
       "    <tr>\n",
       "      <th>Multiple intersection</th>\n",
       "      <td>-1.196693e+00</td>\n",
       "    </tr>\n",
       "    <tr>\n",
       "      <th>Not at intersection</th>\n",
       "      <td>-1.157076e+00</td>\n",
       "    </tr>\n",
       "    <tr>\n",
       "      <th>Private property</th>\n",
       "      <td>-1.102797e+00</td>\n",
       "    </tr>\n",
       "    <tr>\n",
       "      <th>Road closure</th>\n",
       "      <td>1.073091e+01</td>\n",
       "    </tr>\n",
       "    <tr>\n",
       "      <th>T intersection</th>\n",
       "      <td>-1.076604e+00</td>\n",
       "    </tr>\n",
       "    <tr>\n",
       "      <th>Unknown</th>\n",
       "      <td>-1.073275e+00</td>\n",
       "    </tr>\n",
       "    <tr>\n",
       "      <th>Y intersection</th>\n",
       "      <td>-3.041996e+00</td>\n",
       "    </tr>\n",
       "    <tr>\n",
       "      <th rowspan=\"13\" valign=\"top\">SPEED</th>\n",
       "      <th>100 km/hr</th>\n",
       "      <td>-1.376089e+00</td>\n",
       "    </tr>\n",
       "    <tr>\n",
       "      <th>110 km/hr</th>\n",
       "      <td>-1.444458e+00</td>\n",
       "    </tr>\n",
       "    <tr>\n",
       "      <th>30km/hr</th>\n",
       "      <td>-1.235695e+00</td>\n",
       "    </tr>\n",
       "    <tr>\n",
       "      <th>40 km/hr</th>\n",
       "      <td>-1.161556e+00</td>\n",
       "    </tr>\n",
       "    <tr>\n",
       "      <th>50 km/hr</th>\n",
       "      <td>-1.223143e+00</td>\n",
       "    </tr>\n",
       "    <tr>\n",
       "      <th>60 km/hr</th>\n",
       "      <td>-1.217322e+00</td>\n",
       "    </tr>\n",
       "    <tr>\n",
       "      <th>70 km/hr</th>\n",
       "      <td>-1.208667e+00</td>\n",
       "    </tr>\n",
       "    <tr>\n",
       "      <th>75 km/hr</th>\n",
       "      <td>1.395573e+01</td>\n",
       "    </tr>\n",
       "    <tr>\n",
       "      <th>80 km/hr</th>\n",
       "      <td>-1.247368e+00</td>\n",
       "    </tr>\n",
       "    <tr>\n",
       "      <th>90 km/hr</th>\n",
       "      <td>-3.498790e-02</td>\n",
       "    </tr>\n",
       "    <tr>\n",
       "      <th>Camping grounds or off road</th>\n",
       "      <td>-1.374920e+00</td>\n",
       "    </tr>\n",
       "    <tr>\n",
       "      <th>Not known</th>\n",
       "      <td>-1.260371e+00</td>\n",
       "    </tr>\n",
       "    <tr>\n",
       "      <th>Other speed limit</th>\n",
       "      <td>-1.171187e+00</td>\n",
       "    </tr>\n",
       "    <tr>\n",
       "      <th rowspan=\"5\" valign=\"top\">RMA</th>\n",
       "      <th>Arterial Highway</th>\n",
       "      <td>9.583544e-02</td>\n",
       "    </tr>\n",
       "    <tr>\n",
       "      <th>Arterial Other</th>\n",
       "      <td>7.492265e-02</td>\n",
       "    </tr>\n",
       "    <tr>\n",
       "      <th>Freeway</th>\n",
       "      <td>2.435489e-01</td>\n",
       "    </tr>\n",
       "    <tr>\n",
       "      <th>Local Road</th>\n",
       "      <td>1.652491e-02</td>\n",
       "    </tr>\n",
       "    <tr>\n",
       "      <th>Non Arterial</th>\n",
       "      <td>-1.222146e+00</td>\n",
       "    </tr>\n",
       "  </tbody>\n",
       "</table>\n",
       "</div>"
      ],
      "text/plain": [
       "                                          Coefficient\n",
       "ALCOHOLTIME No                          -2.979181e+11\n",
       "            Yes                         -2.979181e+11\n",
       "LIGHT       Dark No street lights        9.041728e-02\n",
       "            Dark Street lights off      -1.219334e+00\n",
       "            Dark Street lights on        1.511534e-01\n",
       "            Dark Street lights unknown   5.296978e-01\n",
       "            Day                          1.853952e-01\n",
       "            Dusk/Dawn                    1.825825e-01\n",
       "            Unk.                         8.011317e-02\n",
       "ROAD        Cross intersection          -1.044718e+00\n",
       "            Dead end                    -1.037837e+00\n",
       "            Multiple intersection       -1.196693e+00\n",
       "            Not at intersection         -1.157076e+00\n",
       "            Private property            -1.102797e+00\n",
       "            Road closure                 1.073091e+01\n",
       "            T intersection              -1.076604e+00\n",
       "            Unknown                     -1.073275e+00\n",
       "            Y intersection              -3.041996e+00\n",
       "SPEED       100 km/hr                   -1.376089e+00\n",
       "            110 km/hr                   -1.444458e+00\n",
       "            30km/hr                     -1.235695e+00\n",
       "            40 km/hr                    -1.161556e+00\n",
       "            50 km/hr                    -1.223143e+00\n",
       "            60 km/hr                    -1.217322e+00\n",
       "            70 km/hr                    -1.208667e+00\n",
       "            75 km/hr                     1.395573e+01\n",
       "            80 km/hr                    -1.247368e+00\n",
       "            90 km/hr                    -3.498790e-02\n",
       "            Camping grounds or off road -1.374920e+00\n",
       "            Not known                   -1.260371e+00\n",
       "            Other speed limit           -1.171187e+00\n",
       "RMA         Arterial Highway             9.583544e-02\n",
       "            Arterial Other               7.492265e-02\n",
       "            Freeway                      2.435489e-01\n",
       "            Local Road                   1.652491e-02\n",
       "            Non Arterial                -1.222146e+00"
      ]
     },
     "execution_count": 60,
     "metadata": {},
     "output_type": "execute_result"
    }
   ],
   "source": [
    "# create explanatory variables for each metrices using coefficient\n",
    "X = pd.get_dummies(crashsite_df[environ_col])\n",
    "X.head()\n",
    "for matrice in metrices:\n",
    "    models[matrice][\"coef\"] = pd.DataFrame(models[matrice][\"model\"].coef_, X.columns, columns=['Coefficient'])\n",
    "\n",
    "    models[matrice][\"coef\"].index = pd.MultiIndex.from_tuples([ (i.split(\"_\")[0],i.split(\"_\")[-1]) for i in models[matrice][\"coef\"].index ])\n",
    "\n",
    "\n",
    "models[metrice][\"coef\"]\n",
    "\n"
   ]
  },
  {
   "cell_type": "code",
   "execution_count": 62,
   "metadata": {},
   "outputs": [
    {
     "data": {
      "application/vnd.plotly.v1+json": {
       "config": {
        "plotlyServerURL": "https://plot.ly"
       },
       "data": [
        {
         "name": "INJ_OR_FATAL",
         "type": "bar",
         "x": [
          "No",
          "Yes",
          "Dark No street lights",
          "Dark Street lights off",
          "Dark Street lights on",
          "Dark Street lights unknown",
          "Day",
          "Dusk/Dawn",
          "Unk.",
          "Cross intersection",
          "Dead end",
          "Multiple intersection",
          "Not at intersection",
          "Private property",
          "Road closure",
          "T intersection",
          "Unknown",
          "Y intersection",
          "100 km/hr",
          "110 km/hr",
          "30km/hr",
          "40 km/hr",
          "50 km/hr",
          "60 km/hr",
          "70 km/hr",
          "75 km/hr",
          "80 km/hr",
          "90 km/hr",
          "Camping grounds or off road",
          "Not known",
          "Other speed limit",
          "Arterial Highway",
          "Arterial Other",
          "Freeway",
          "Local Road",
          "Non Arterial"
         ],
         "y": [
          557619731766.7189,
          557619731766.7312,
          -0.02255842372144822,
          0.9188763738184499,
          -0.09293747571142727,
          -0.5355965825531654,
          -0.11858000851183247,
          -0.1272515932922489,
          -0.021907629241116337,
          1.0415630472664972,
          0.9853319743942502,
          1.188844894455774,
          1.1529006712968322,
          1.0844017471800327,
          -10.330456216540833,
          1.0750826987642517,
          1.0652436755269152,
          2.73727205524452,
          1.2839401817580756,
          1.3620834807132245,
          1.1039440992484375,
          1.0480264369099799,
          1.1109407169601613,
          1.1167297606926394,
          1.1118602882966189,
          -13.094985158839762,
          1.1536044756178971,
          0.3564370262643875,
          1.2696956768694505,
          1.1321484049424206,
          1.0456300688762565,
          -0.10583396756621738,
          -0.08754760156819874,
          -0.2609792786839208,
          -0.028562844560866597,
          0.6032113588926333
         ]
        },
        {
         "name": "FATALITY",
         "type": "bar",
         "x": [
          "No",
          "Yes",
          "Dark No street lights",
          "Dark Street lights off",
          "Dark Street lights on",
          "Dark Street lights unknown",
          "Day",
          "Dusk/Dawn",
          "Unk.",
          "Cross intersection",
          "Dead end",
          "Multiple intersection",
          "Not at intersection",
          "Private property",
          "Road closure",
          "T intersection",
          "Unknown",
          "Y intersection",
          "100 km/hr",
          "110 km/hr",
          "30km/hr",
          "40 km/hr",
          "50 km/hr",
          "60 km/hr",
          "70 km/hr",
          "75 km/hr",
          "80 km/hr",
          "90 km/hr",
          "Camping grounds or off road",
          "Not known",
          "Other speed limit",
          "Arterial Highway",
          "Arterial Other",
          "Freeway",
          "Local Road",
          "Non Arterial"
         ],
         "y": [
          -524344664557.36127,
          -524344664557.35706,
          0.018035390532355824,
          -0.009545951096547623,
          0.0054914229642249734,
          -0.005746948548519131,
          0.005015305302525631,
          -0.00023317273130612804,
          -0.0130224375839547,
          0.26918454833073613,
          -0.04840156992170397,
          0.28306440763889396,
          0.2773598340216417,
          0.3062207086867842,
          -2.4915818952376774,
          0.2708542983438036,
          0.31663904257700853,
          0.8165121104852461,
          0.04665367809504012,
          0.04606945513335968,
          0.021236875517461923,
          0.014357419185320783,
          0.01844512300861945,
          0.020591022851993428,
          0.021494851867924582,
          -0.5178387888658644,
          0.026577242274374583,
          0.23355877944827272,
          0.02770312431705594,
          0.02041422940672527,
          0.020688347570862877,
          0.0033989502087336523,
          0.004635034912256978,
          -0.013841335737565961,
          0.005588202338990973,
          0.37436633992289536
         ]
        },
        {
         "name": "SERIOUSINJURY",
         "type": "bar",
         "x": [
          "No",
          "Yes",
          "Dark No street lights",
          "Dark Street lights off",
          "Dark Street lights on",
          "Dark Street lights unknown",
          "Day",
          "Dusk/Dawn",
          "Unk.",
          "Cross intersection",
          "Dead end",
          "Multiple intersection",
          "Not at intersection",
          "Private property",
          "Road closure",
          "T intersection",
          "Unknown",
          "Y intersection",
          "100 km/hr",
          "110 km/hr",
          "30km/hr",
          "40 km/hr",
          "50 km/hr",
          "60 km/hr",
          "70 km/hr",
          "75 km/hr",
          "80 km/hr",
          "90 km/hr",
          "Camping grounds or off road",
          "Not known",
          "Other speed limit",
          "Arterial Highway",
          "Arterial Other",
          "Freeway",
          "Local Road",
          "Non Arterial"
         ],
         "y": [
          -2776280107543.8022,
          -2776280107543.773,
          0.08515775371585155,
          0.07030473535085092,
          0.0596391486887931,
          -0.13681036825687934,
          0.028862109166228077,
          0.009177361868430763,
          -0.11644507361159237,
          0.4942475027122594,
          2.376630865155457,
          0.6209673420294868,
          0.5720746669589679,
          0.5013803133912019,
          -5.973947349976153,
          0.5225759236992894,
          0.5601397938768271,
          0.3250417402247397,
          0.07153224302754492,
          0.053734295884787446,
          -0.1400695180258449,
          -0.10840189826530378,
          -0.07425948395967084,
          -0.07174541616227126,
          -0.05034211498181539,
          -1.035691177357843,
          -0.02240950704365571,
          1.6643796813778358,
          -0.025252092539361115,
          -0.09973940700962436,
          -0.16197133594379884,
          -0.09129878853586543,
          -0.07724235808089358,
          -0.1854965524884798,
          -0.047589111672988564,
          -0.6131545463696899
         ]
        },
        {
         "name": "OTHERINJURY",
         "type": "bar",
         "x": [
          "No",
          "Yes",
          "Dark No street lights",
          "Dark Street lights off",
          "Dark Street lights on",
          "Dark Street lights unknown",
          "Day",
          "Dusk/Dawn",
          "Unk.",
          "Cross intersection",
          "Dead end",
          "Multiple intersection",
          "Not at intersection",
          "Private property",
          "Road closure",
          "T intersection",
          "Unknown",
          "Y intersection",
          "100 km/hr",
          "110 km/hr",
          "30km/hr",
          "40 km/hr",
          "50 km/hr",
          "60 km/hr",
          "70 km/hr",
          "75 km/hr",
          "80 km/hr",
          "90 km/hr",
          "Camping grounds or off road",
          "Not known",
          "Other speed limit",
          "Arterial Highway",
          "Arterial Other",
          "Freeway",
          "Local Road",
          "Non Arterial"
         ],
         "y": [
          3858244503867.881,
          3858244503867.859,
          -0.1253263401209308,
          0.8578226583393256,
          -0.15772574053167998,
          -0.39312249969708274,
          -0.1527254710326918,
          -0.1361977170183072,
          0.1075548167967958,
          0.2780444084646277,
          -1.3429177297403458,
          0.2848272350291616,
          0.3037173151145052,
          0.27679456142781944,
          -1.8649279836522057,
          0.28148552601552335,
          0.1884799166248806,
          1.5957175251913458,
          1.165828764921989,
          1.26227995127844,
          1.222762116474427,
          1.1420354973257372,
          1.1667147712713115,
          1.1679324659491856,
          1.1406802346568468,
          -11.541455178398072,
          1.149446860874195,
          -1.5415021742107327,
          1.2672260135524316,
          1.2114842188656032,
          1.1869119978063274,
          -0.01805817428963986,
          -0.014748373228767306,
          -0.061630920106416125,
          0.013370425845081359,
          0.8419993256477366
         ]
        },
        {
         "name": "NONINJURED",
         "type": "bar",
         "x": [
          "No",
          "Yes",
          "Dark No street lights",
          "Dark Street lights off",
          "Dark Street lights on",
          "Dark Street lights unknown",
          "Day",
          "Dusk/Dawn",
          "Unk.",
          "Cross intersection",
          "Dead end",
          "Multiple intersection",
          "Not at intersection",
          "Private property",
          "Road closure",
          "T intersection",
          "Unknown",
          "Y intersection",
          "100 km/hr",
          "110 km/hr",
          "30km/hr",
          "40 km/hr",
          "50 km/hr",
          "60 km/hr",
          "70 km/hr",
          "75 km/hr",
          "80 km/hr",
          "90 km/hr",
          "Camping grounds or off road",
          "Not known",
          "Other speed limit",
          "Arterial Highway",
          "Arterial Other",
          "Freeway",
          "Local Road",
          "Non Arterial"
         ],
         "y": [
          -297918060507.4105,
          -297918060507.4237,
          0.09041727712133439,
          -1.2193339932603249,
          0.1511534253949832,
          0.5296977909527568,
          0.1853952002566481,
          0.18258247916681924,
          0.0801131735013075,
          -1.044717605631877,
          -1.0378371869974612,
          -1.196693019822025,
          -1.1570757644188259,
          -1.1027966046605215,
          10.730905993996355,
          -1.0766041567795854,
          -1.0732745206247591,
          -3.0419964271570445,
          -1.3760893040893991,
          -1.4444581163732468,
          -1.2356951217879377,
          -1.161555727407351,
          -1.2231432562621662,
          -1.2173216840199976,
          -1.2086665627403148,
          13.955731393347806,
          -1.247367857365718,
          -0.03498789984407962,
          -1.3749195097244056,
          -1.2603709431109034,
          -1.1711867192658207,
          0.0958354444771935,
          0.07492264801376775,
          0.24354887264873992,
          0.016524908209555548,
          -1.2221463865374422
         ]
        }
       ],
       "layout": {
        "barmode": "group",
        "template": {
         "data": {
          "bar": [
           {
            "error_x": {
             "color": "#2a3f5f"
            },
            "error_y": {
             "color": "#2a3f5f"
            },
            "marker": {
             "line": {
              "color": "#E5ECF6",
              "width": 0.5
             },
             "pattern": {
              "fillmode": "overlay",
              "size": 10,
              "solidity": 0.2
             }
            },
            "type": "bar"
           }
          ],
          "barpolar": [
           {
            "marker": {
             "line": {
              "color": "#E5ECF6",
              "width": 0.5
             },
             "pattern": {
              "fillmode": "overlay",
              "size": 10,
              "solidity": 0.2
             }
            },
            "type": "barpolar"
           }
          ],
          "carpet": [
           {
            "aaxis": {
             "endlinecolor": "#2a3f5f",
             "gridcolor": "white",
             "linecolor": "white",
             "minorgridcolor": "white",
             "startlinecolor": "#2a3f5f"
            },
            "baxis": {
             "endlinecolor": "#2a3f5f",
             "gridcolor": "white",
             "linecolor": "white",
             "minorgridcolor": "white",
             "startlinecolor": "#2a3f5f"
            },
            "type": "carpet"
           }
          ],
          "choropleth": [
           {
            "colorbar": {
             "outlinewidth": 0,
             "ticks": ""
            },
            "type": "choropleth"
           }
          ],
          "contour": [
           {
            "colorbar": {
             "outlinewidth": 0,
             "ticks": ""
            },
            "colorscale": [
             [
              0,
              "#0d0887"
             ],
             [
              0.1111111111111111,
              "#46039f"
             ],
             [
              0.2222222222222222,
              "#7201a8"
             ],
             [
              0.3333333333333333,
              "#9c179e"
             ],
             [
              0.4444444444444444,
              "#bd3786"
             ],
             [
              0.5555555555555556,
              "#d8576b"
             ],
             [
              0.6666666666666666,
              "#ed7953"
             ],
             [
              0.7777777777777778,
              "#fb9f3a"
             ],
             [
              0.8888888888888888,
              "#fdca26"
             ],
             [
              1,
              "#f0f921"
             ]
            ],
            "type": "contour"
           }
          ],
          "contourcarpet": [
           {
            "colorbar": {
             "outlinewidth": 0,
             "ticks": ""
            },
            "type": "contourcarpet"
           }
          ],
          "heatmap": [
           {
            "colorbar": {
             "outlinewidth": 0,
             "ticks": ""
            },
            "colorscale": [
             [
              0,
              "#0d0887"
             ],
             [
              0.1111111111111111,
              "#46039f"
             ],
             [
              0.2222222222222222,
              "#7201a8"
             ],
             [
              0.3333333333333333,
              "#9c179e"
             ],
             [
              0.4444444444444444,
              "#bd3786"
             ],
             [
              0.5555555555555556,
              "#d8576b"
             ],
             [
              0.6666666666666666,
              "#ed7953"
             ],
             [
              0.7777777777777778,
              "#fb9f3a"
             ],
             [
              0.8888888888888888,
              "#fdca26"
             ],
             [
              1,
              "#f0f921"
             ]
            ],
            "type": "heatmap"
           }
          ],
          "heatmapgl": [
           {
            "colorbar": {
             "outlinewidth": 0,
             "ticks": ""
            },
            "colorscale": [
             [
              0,
              "#0d0887"
             ],
             [
              0.1111111111111111,
              "#46039f"
             ],
             [
              0.2222222222222222,
              "#7201a8"
             ],
             [
              0.3333333333333333,
              "#9c179e"
             ],
             [
              0.4444444444444444,
              "#bd3786"
             ],
             [
              0.5555555555555556,
              "#d8576b"
             ],
             [
              0.6666666666666666,
              "#ed7953"
             ],
             [
              0.7777777777777778,
              "#fb9f3a"
             ],
             [
              0.8888888888888888,
              "#fdca26"
             ],
             [
              1,
              "#f0f921"
             ]
            ],
            "type": "heatmapgl"
           }
          ],
          "histogram": [
           {
            "marker": {
             "pattern": {
              "fillmode": "overlay",
              "size": 10,
              "solidity": 0.2
             }
            },
            "type": "histogram"
           }
          ],
          "histogram2d": [
           {
            "colorbar": {
             "outlinewidth": 0,
             "ticks": ""
            },
            "colorscale": [
             [
              0,
              "#0d0887"
             ],
             [
              0.1111111111111111,
              "#46039f"
             ],
             [
              0.2222222222222222,
              "#7201a8"
             ],
             [
              0.3333333333333333,
              "#9c179e"
             ],
             [
              0.4444444444444444,
              "#bd3786"
             ],
             [
              0.5555555555555556,
              "#d8576b"
             ],
             [
              0.6666666666666666,
              "#ed7953"
             ],
             [
              0.7777777777777778,
              "#fb9f3a"
             ],
             [
              0.8888888888888888,
              "#fdca26"
             ],
             [
              1,
              "#f0f921"
             ]
            ],
            "type": "histogram2d"
           }
          ],
          "histogram2dcontour": [
           {
            "colorbar": {
             "outlinewidth": 0,
             "ticks": ""
            },
            "colorscale": [
             [
              0,
              "#0d0887"
             ],
             [
              0.1111111111111111,
              "#46039f"
             ],
             [
              0.2222222222222222,
              "#7201a8"
             ],
             [
              0.3333333333333333,
              "#9c179e"
             ],
             [
              0.4444444444444444,
              "#bd3786"
             ],
             [
              0.5555555555555556,
              "#d8576b"
             ],
             [
              0.6666666666666666,
              "#ed7953"
             ],
             [
              0.7777777777777778,
              "#fb9f3a"
             ],
             [
              0.8888888888888888,
              "#fdca26"
             ],
             [
              1,
              "#f0f921"
             ]
            ],
            "type": "histogram2dcontour"
           }
          ],
          "mesh3d": [
           {
            "colorbar": {
             "outlinewidth": 0,
             "ticks": ""
            },
            "type": "mesh3d"
           }
          ],
          "parcoords": [
           {
            "line": {
             "colorbar": {
              "outlinewidth": 0,
              "ticks": ""
             }
            },
            "type": "parcoords"
           }
          ],
          "pie": [
           {
            "automargin": true,
            "type": "pie"
           }
          ],
          "scatter": [
           {
            "fillpattern": {
             "fillmode": "overlay",
             "size": 10,
             "solidity": 0.2
            },
            "type": "scatter"
           }
          ],
          "scatter3d": [
           {
            "line": {
             "colorbar": {
              "outlinewidth": 0,
              "ticks": ""
             }
            },
            "marker": {
             "colorbar": {
              "outlinewidth": 0,
              "ticks": ""
             }
            },
            "type": "scatter3d"
           }
          ],
          "scattercarpet": [
           {
            "marker": {
             "colorbar": {
              "outlinewidth": 0,
              "ticks": ""
             }
            },
            "type": "scattercarpet"
           }
          ],
          "scattergeo": [
           {
            "marker": {
             "colorbar": {
              "outlinewidth": 0,
              "ticks": ""
             }
            },
            "type": "scattergeo"
           }
          ],
          "scattergl": [
           {
            "marker": {
             "colorbar": {
              "outlinewidth": 0,
              "ticks": ""
             }
            },
            "type": "scattergl"
           }
          ],
          "scattermapbox": [
           {
            "marker": {
             "colorbar": {
              "outlinewidth": 0,
              "ticks": ""
             }
            },
            "type": "scattermapbox"
           }
          ],
          "scatterpolar": [
           {
            "marker": {
             "colorbar": {
              "outlinewidth": 0,
              "ticks": ""
             }
            },
            "type": "scatterpolar"
           }
          ],
          "scatterpolargl": [
           {
            "marker": {
             "colorbar": {
              "outlinewidth": 0,
              "ticks": ""
             }
            },
            "type": "scatterpolargl"
           }
          ],
          "scatterternary": [
           {
            "marker": {
             "colorbar": {
              "outlinewidth": 0,
              "ticks": ""
             }
            },
            "type": "scatterternary"
           }
          ],
          "surface": [
           {
            "colorbar": {
             "outlinewidth": 0,
             "ticks": ""
            },
            "colorscale": [
             [
              0,
              "#0d0887"
             ],
             [
              0.1111111111111111,
              "#46039f"
             ],
             [
              0.2222222222222222,
              "#7201a8"
             ],
             [
              0.3333333333333333,
              "#9c179e"
             ],
             [
              0.4444444444444444,
              "#bd3786"
             ],
             [
              0.5555555555555556,
              "#d8576b"
             ],
             [
              0.6666666666666666,
              "#ed7953"
             ],
             [
              0.7777777777777778,
              "#fb9f3a"
             ],
             [
              0.8888888888888888,
              "#fdca26"
             ],
             [
              1,
              "#f0f921"
             ]
            ],
            "type": "surface"
           }
          ],
          "table": [
           {
            "cells": {
             "fill": {
              "color": "#EBF0F8"
             },
             "line": {
              "color": "white"
             }
            },
            "header": {
             "fill": {
              "color": "#C8D4E3"
             },
             "line": {
              "color": "white"
             }
            },
            "type": "table"
           }
          ]
         },
         "layout": {
          "annotationdefaults": {
           "arrowcolor": "#2a3f5f",
           "arrowhead": 0,
           "arrowwidth": 1
          },
          "autotypenumbers": "strict",
          "coloraxis": {
           "colorbar": {
            "outlinewidth": 0,
            "ticks": ""
           }
          },
          "colorscale": {
           "diverging": [
            [
             0,
             "#8e0152"
            ],
            [
             0.1,
             "#c51b7d"
            ],
            [
             0.2,
             "#de77ae"
            ],
            [
             0.3,
             "#f1b6da"
            ],
            [
             0.4,
             "#fde0ef"
            ],
            [
             0.5,
             "#f7f7f7"
            ],
            [
             0.6,
             "#e6f5d0"
            ],
            [
             0.7,
             "#b8e186"
            ],
            [
             0.8,
             "#7fbc41"
            ],
            [
             0.9,
             "#4d9221"
            ],
            [
             1,
             "#276419"
            ]
           ],
           "sequential": [
            [
             0,
             "#0d0887"
            ],
            [
             0.1111111111111111,
             "#46039f"
            ],
            [
             0.2222222222222222,
             "#7201a8"
            ],
            [
             0.3333333333333333,
             "#9c179e"
            ],
            [
             0.4444444444444444,
             "#bd3786"
            ],
            [
             0.5555555555555556,
             "#d8576b"
            ],
            [
             0.6666666666666666,
             "#ed7953"
            ],
            [
             0.7777777777777778,
             "#fb9f3a"
            ],
            [
             0.8888888888888888,
             "#fdca26"
            ],
            [
             1,
             "#f0f921"
            ]
           ],
           "sequentialminus": [
            [
             0,
             "#0d0887"
            ],
            [
             0.1111111111111111,
             "#46039f"
            ],
            [
             0.2222222222222222,
             "#7201a8"
            ],
            [
             0.3333333333333333,
             "#9c179e"
            ],
            [
             0.4444444444444444,
             "#bd3786"
            ],
            [
             0.5555555555555556,
             "#d8576b"
            ],
            [
             0.6666666666666666,
             "#ed7953"
            ],
            [
             0.7777777777777778,
             "#fb9f3a"
            ],
            [
             0.8888888888888888,
             "#fdca26"
            ],
            [
             1,
             "#f0f921"
            ]
           ]
          },
          "colorway": [
           "#636efa",
           "#EF553B",
           "#00cc96",
           "#ab63fa",
           "#FFA15A",
           "#19d3f3",
           "#FF6692",
           "#B6E880",
           "#FF97FF",
           "#FECB52"
          ],
          "font": {
           "color": "#2a3f5f"
          },
          "geo": {
           "bgcolor": "white",
           "lakecolor": "white",
           "landcolor": "#E5ECF6",
           "showlakes": true,
           "showland": true,
           "subunitcolor": "white"
          },
          "hoverlabel": {
           "align": "left"
          },
          "hovermode": "closest",
          "mapbox": {
           "style": "light"
          },
          "paper_bgcolor": "white",
          "plot_bgcolor": "#E5ECF6",
          "polar": {
           "angularaxis": {
            "gridcolor": "white",
            "linecolor": "white",
            "ticks": ""
           },
           "bgcolor": "#E5ECF6",
           "radialaxis": {
            "gridcolor": "white",
            "linecolor": "white",
            "ticks": ""
           }
          },
          "scene": {
           "xaxis": {
            "backgroundcolor": "#E5ECF6",
            "gridcolor": "white",
            "gridwidth": 2,
            "linecolor": "white",
            "showbackground": true,
            "ticks": "",
            "zerolinecolor": "white"
           },
           "yaxis": {
            "backgroundcolor": "#E5ECF6",
            "gridcolor": "white",
            "gridwidth": 2,
            "linecolor": "white",
            "showbackground": true,
            "ticks": "",
            "zerolinecolor": "white"
           },
           "zaxis": {
            "backgroundcolor": "#E5ECF6",
            "gridcolor": "white",
            "gridwidth": 2,
            "linecolor": "white",
            "showbackground": true,
            "ticks": "",
            "zerolinecolor": "white"
           }
          },
          "shapedefaults": {
           "line": {
            "color": "#2a3f5f"
           }
          },
          "ternary": {
           "aaxis": {
            "gridcolor": "white",
            "linecolor": "white",
            "ticks": ""
           },
           "baxis": {
            "gridcolor": "white",
            "linecolor": "white",
            "ticks": ""
           },
           "bgcolor": "#E5ECF6",
           "caxis": {
            "gridcolor": "white",
            "linecolor": "white",
            "ticks": ""
           }
          },
          "title": {
           "x": 0.05
          },
          "xaxis": {
           "automargin": true,
           "gridcolor": "white",
           "linecolor": "white",
           "ticks": "",
           "title": {
            "standoff": 15
           },
           "zerolinecolor": "white",
           "zerolinewidth": 2
          },
          "yaxis": {
           "automargin": true,
           "gridcolor": "white",
           "linecolor": "white",
           "ticks": "",
           "title": {
            "standoff": 15
           },
           "zerolinecolor": "white",
           "zerolinewidth": 2
          }
         }
        },
        "xaxis": {
         "tickangle": -45
        }
       }
      }
     },
     "metadata": {},
     "output_type": "display_data"
    }
   ],
   "source": [
    "import plotly.graph_objects as go\n",
    "\n",
    "fig = go.Figure()\n",
    "for metrice in metrices:\n",
    "    fig.add_trace(go.Bar(x=models[metrice][\"coef\"].index.get_level_values(1), y=models[metrice][\"coef\"][\"Coefficient\"], name=metrice))\n",
    "\n",
    "fig.update_layout(barmode='group', xaxis_tickangle=-45)\n",
    "fig.show()"
   ]
  },
  {
   "cell_type": "code",
   "execution_count": 72,
   "metadata": {},
   "outputs": [],
   "source": [
    "# save coef to xlsx\n",
    "with pd.ExcelWriter('out/environmental_coef.xlsx') as writer:\n",
    "    for metrice in metrices:\n",
    "\n",
    "        # models[metrice][\"coef\"].to_excel(writer, sheet_name=metrice)\n",
    "        # sort values by level 0\n",
    "        models[metrice][\"coef\"].sort_index(level=0).drop(\"ALCOHOLTIME\").to_excel(writer, sheet_name=metrice)"
   ]
  },
  {
   "cell_type": "code",
   "execution_count": null,
   "metadata": {},
   "outputs": [],
   "source": []
  }
 ],
 "metadata": {
  "kernelspec": {
   "display_name": "rwc",
   "language": "python",
   "name": "python3"
  },
  "language_info": {
   "codemirror_mode": {
    "name": "ipython",
    "version": 3
   },
   "file_extension": ".py",
   "mimetype": "text/x-python",
   "name": "python",
   "nbconvert_exporter": "python",
   "pygments_lexer": "ipython3",
   "version": "3.10.13"
  },
  "orig_nbformat": 4
 },
 "nbformat": 4,
 "nbformat_minor": 2
}
